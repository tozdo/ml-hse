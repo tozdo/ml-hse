{
 "cells": [
  {
   "cell_type": "markdown",
   "metadata": {},
   "source": [
    "## Преобразование датафрейма"
   ]
  },
  {
   "cell_type": "code",
   "execution_count": 1,
   "metadata": {},
   "outputs": [],
   "source": [
    "import pandas as pd\n",
    "import numpy as np"
   ]
  },
  {
   "cell_type": "code",
   "execution_count": 2,
   "metadata": {},
   "outputs": [],
   "source": [
    "data = pd.read_table('labeledEligibilitySample1000000.csv', header=None)"
   ]
  },
  {
   "cell_type": "code",
   "execution_count": 3,
   "metadata": {},
   "outputs": [
    {
     "data": {
      "text/plain": [
       "(1000000, 2)"
      ]
     },
     "execution_count": 3,
     "metadata": {},
     "output_type": "execute_result"
    }
   ],
   "source": [
    "data.shape"
   ]
  },
  {
   "cell_type": "code",
   "execution_count": 4,
   "metadata": {},
   "outputs": [
    {
     "data": {
      "text/html": [
       "<div>\n",
       "<style scoped>\n",
       "    .dataframe tbody tr th:only-of-type {\n",
       "        vertical-align: middle;\n",
       "    }\n",
       "\n",
       "    .dataframe tbody tr th {\n",
       "        vertical-align: top;\n",
       "    }\n",
       "\n",
       "    .dataframe thead th {\n",
       "        text-align: right;\n",
       "    }\n",
       "</style>\n",
       "<table border=\"1\" class=\"dataframe\">\n",
       "  <thead>\n",
       "    <tr style=\"text-align: right;\">\n",
       "      <th></th>\n",
       "      <th>0</th>\n",
       "      <th>1</th>\n",
       "    </tr>\n",
       "  </thead>\n",
       "  <tbody>\n",
       "    <tr>\n",
       "      <th>897851</th>\n",
       "      <td>__label__1</td>\n",
       "      <td>study interventions are Lenalidomide . recurre...</td>\n",
       "    </tr>\n",
       "    <tr>\n",
       "      <th>262581</th>\n",
       "      <td>__label__0</td>\n",
       "      <td>study interventions are Antibodies . stage iv ...</td>\n",
       "    </tr>\n",
       "    <tr>\n",
       "      <th>267168</th>\n",
       "      <td>__label__0</td>\n",
       "      <td>study interventions are Antibodies . noncontig...</td>\n",
       "    </tr>\n",
       "    <tr>\n",
       "      <th>693790</th>\n",
       "      <td>__label__1</td>\n",
       "      <td>study interventions are intraoperative complic...</td>\n",
       "    </tr>\n",
       "    <tr>\n",
       "      <th>203156</th>\n",
       "      <td>__label__0</td>\n",
       "      <td>study interventions are Oxaliplatin . neoplasm...</td>\n",
       "    </tr>\n",
       "    <tr>\n",
       "      <th>172128</th>\n",
       "      <td>__label__0</td>\n",
       "      <td>study interventions are Vincristine . brain tu...</td>\n",
       "    </tr>\n",
       "    <tr>\n",
       "      <th>161184</th>\n",
       "      <td>__label__0</td>\n",
       "      <td>study interventions are polymerase chain react...</td>\n",
       "    </tr>\n",
       "    <tr>\n",
       "      <th>260251</th>\n",
       "      <td>__label__0</td>\n",
       "      <td>study interventions are Pembrolizumab . stage ...</td>\n",
       "    </tr>\n",
       "    <tr>\n",
       "      <th>174777</th>\n",
       "      <td>__label__0</td>\n",
       "      <td>study interventions are Gemcitabine . cholangi...</td>\n",
       "    </tr>\n",
       "    <tr>\n",
       "      <th>39444</th>\n",
       "      <td>__label__0</td>\n",
       "      <td>study interventions are Immunoglobulins . loca...</td>\n",
       "    </tr>\n",
       "  </tbody>\n",
       "</table>\n",
       "</div>"
      ],
      "text/plain": [
       "                 0                                                  1\n",
       "897851  __label__1  study interventions are Lenalidomide . recurre...\n",
       "262581  __label__0  study interventions are Antibodies . stage iv ...\n",
       "267168  __label__0  study interventions are Antibodies . noncontig...\n",
       "693790  __label__1  study interventions are intraoperative complic...\n",
       "203156  __label__0  study interventions are Oxaliplatin . neoplasm...\n",
       "172128  __label__0  study interventions are Vincristine . brain tu...\n",
       "161184  __label__0  study interventions are polymerase chain react...\n",
       "260251  __label__0  study interventions are Pembrolizumab . stage ...\n",
       "174777  __label__0  study interventions are Gemcitabine . cholangi...\n",
       "39444   __label__0  study interventions are Immunoglobulins . loca..."
      ]
     },
     "execution_count": 4,
     "metadata": {},
     "output_type": "execute_result"
    }
   ],
   "source": [
    "data.sample(10)"
   ]
  },
  {
   "cell_type": "code",
   "execution_count": 3,
   "metadata": {},
   "outputs": [],
   "source": [
    "clmned = pd.DataFrame(np.array(data).reshape(1000000,2), columns=['label', 'describe'])"
   ]
  },
  {
   "cell_type": "code",
   "execution_count": 4,
   "metadata": {},
   "outputs": [],
   "source": [
    "clmned['study'], clmned['condition'] = clmned['describe'].str.split('.', 1).str"
   ]
  },
  {
   "cell_type": "code",
   "execution_count": 5,
   "metadata": {},
   "outputs": [],
   "source": [
    "clmned=clmned.drop(['describe'], axis=1)"
   ]
  },
  {
   "cell_type": "code",
   "execution_count": 8,
   "metadata": {},
   "outputs": [
    {
     "data": {
      "text/html": [
       "<div>\n",
       "<style scoped>\n",
       "    .dataframe tbody tr th:only-of-type {\n",
       "        vertical-align: middle;\n",
       "    }\n",
       "\n",
       "    .dataframe tbody tr th {\n",
       "        vertical-align: top;\n",
       "    }\n",
       "\n",
       "    .dataframe thead th {\n",
       "        text-align: right;\n",
       "    }\n",
       "</style>\n",
       "<table border=\"1\" class=\"dataframe\">\n",
       "  <thead>\n",
       "    <tr style=\"text-align: right;\">\n",
       "      <th></th>\n",
       "      <th>label</th>\n",
       "      <th>study</th>\n",
       "      <th>condition</th>\n",
       "    </tr>\n",
       "  </thead>\n",
       "  <tbody>\n",
       "    <tr>\n",
       "      <th>0</th>\n",
       "      <td>__label__0</td>\n",
       "      <td>study interventions are recombinant CD40-ligand</td>\n",
       "      <td>melanoma skin diagnosis and no active cns met...</td>\n",
       "    </tr>\n",
       "    <tr>\n",
       "      <th>1</th>\n",
       "      <td>__label__0</td>\n",
       "      <td>study interventions are Liposomal doxorubicin</td>\n",
       "      <td>colorectal cancer diagnosis and cardiovascular</td>\n",
       "    </tr>\n",
       "    <tr>\n",
       "      <th>2</th>\n",
       "      <td>__label__0</td>\n",
       "      <td>study interventions are BI 836909</td>\n",
       "      <td>multiple myeloma diagnosis and indwelling cen...</td>\n",
       "    </tr>\n",
       "    <tr>\n",
       "      <th>3</th>\n",
       "      <td>__label__0</td>\n",
       "      <td>study interventions are Immunoglobulins</td>\n",
       "      <td>recurrent fallopian tube carcinoma diagnosis ...</td>\n",
       "    </tr>\n",
       "    <tr>\n",
       "      <th>4</th>\n",
       "      <td>__label__0</td>\n",
       "      <td>study interventions are Paclitaxel</td>\n",
       "      <td>stage ovarian cancer diagnosis and patients m...</td>\n",
       "    </tr>\n",
       "    <tr>\n",
       "      <th>5</th>\n",
       "      <td>__label__0</td>\n",
       "      <td>study interventions are Antibodies, Monoclonal</td>\n",
       "      <td>recurrent verrucous carcinoma of the oral cav...</td>\n",
       "    </tr>\n",
       "  </tbody>\n",
       "</table>\n",
       "</div>"
      ],
      "text/plain": [
       "        label                                             study  \\\n",
       "0  __label__0  study interventions are recombinant CD40-ligand    \n",
       "1  __label__0    study interventions are Liposomal doxorubicin    \n",
       "2  __label__0                study interventions are BI 836909    \n",
       "3  __label__0          study interventions are Immunoglobulins    \n",
       "4  __label__0               study interventions are Paclitaxel    \n",
       "5  __label__0   study interventions are Antibodies, Monoclonal    \n",
       "\n",
       "                                           condition  \n",
       "0   melanoma skin diagnosis and no active cns met...  \n",
       "1     colorectal cancer diagnosis and cardiovascular  \n",
       "2   multiple myeloma diagnosis and indwelling cen...  \n",
       "3   recurrent fallopian tube carcinoma diagnosis ...  \n",
       "4   stage ovarian cancer diagnosis and patients m...  \n",
       "5   recurrent verrucous carcinoma of the oral cav...  "
      ]
     },
     "execution_count": 8,
     "metadata": {},
     "output_type": "execute_result"
    }
   ],
   "source": [
    "clmned.head(6)"
   ]
  },
  {
   "cell_type": "code",
   "execution_count": 6,
   "metadata": {},
   "outputs": [],
   "source": [
    "clmned['qualification']=clmned['label'].str.extract('(\\d)', expand=True).astype(int)\n",
    "clmned=clmned.drop(['label'], axis=1)"
   ]
  },
  {
   "cell_type": "code",
   "execution_count": 10,
   "metadata": {},
   "outputs": [
    {
     "data": {
      "text/html": [
       "<div>\n",
       "<style scoped>\n",
       "    .dataframe tbody tr th:only-of-type {\n",
       "        vertical-align: middle;\n",
       "    }\n",
       "\n",
       "    .dataframe tbody tr th {\n",
       "        vertical-align: top;\n",
       "    }\n",
       "\n",
       "    .dataframe thead th {\n",
       "        text-align: right;\n",
       "    }\n",
       "</style>\n",
       "<table border=\"1\" class=\"dataframe\">\n",
       "  <thead>\n",
       "    <tr style=\"text-align: right;\">\n",
       "      <th></th>\n",
       "      <th>study</th>\n",
       "      <th>condition</th>\n",
       "      <th>qualification</th>\n",
       "    </tr>\n",
       "  </thead>\n",
       "  <tbody>\n",
       "    <tr>\n",
       "      <th>235017</th>\n",
       "      <td>study interventions are Bleomycin</td>\n",
       "      <td>lymphoma diagnosis and patient characteristics</td>\n",
       "      <td>0</td>\n",
       "    </tr>\n",
       "    <tr>\n",
       "      <th>265059</th>\n",
       "      <td>study interventions are Capecitabine</td>\n",
       "      <td>neuroendocrine tumors diagnosis and ineligibl...</td>\n",
       "      <td>0</td>\n",
       "    </tr>\n",
       "    <tr>\n",
       "      <th>567551</th>\n",
       "      <td>study interventions are Paclitaxel</td>\n",
       "      <td>breast cancer diagnosis and pregnant or lacta...</td>\n",
       "      <td>1</td>\n",
       "    </tr>\n",
       "    <tr>\n",
       "      <th>642721</th>\n",
       "      <td>study interventions are Fludarabine phosphate</td>\n",
       "      <td>mantle cell lymphoma diagnosis and lansky pla...</td>\n",
       "      <td>1</td>\n",
       "    </tr>\n",
       "    <tr>\n",
       "      <th>838907</th>\n",
       "      <td>study interventions are Succinylcholine</td>\n",
       "      <td>stage iiib gallbladder cancer diagnosis and p...</td>\n",
       "      <td>1</td>\n",
       "    </tr>\n",
       "    <tr>\n",
       "      <th>446441</th>\n",
       "      <td>study interventions are Sirolimus</td>\n",
       "      <td>malignant pancreatic glucagonoma diagnosis an...</td>\n",
       "      <td>0</td>\n",
       "    </tr>\n",
       "  </tbody>\n",
       "</table>\n",
       "</div>"
      ],
      "text/plain": [
       "                                                 study  \\\n",
       "235017              study interventions are Bleomycin    \n",
       "265059           study interventions are Capecitabine    \n",
       "567551             study interventions are Paclitaxel    \n",
       "642721  study interventions are Fludarabine phosphate    \n",
       "838907        study interventions are Succinylcholine    \n",
       "446441              study interventions are Sirolimus    \n",
       "\n",
       "                                                condition  qualification  \n",
       "235017     lymphoma diagnosis and patient characteristics              0  \n",
       "265059   neuroendocrine tumors diagnosis and ineligibl...              0  \n",
       "567551   breast cancer diagnosis and pregnant or lacta...              1  \n",
       "642721   mantle cell lymphoma diagnosis and lansky pla...              1  \n",
       "838907   stage iiib gallbladder cancer diagnosis and p...              1  \n",
       "446441   malignant pancreatic glucagonoma diagnosis an...              0  "
      ]
     },
     "execution_count": 10,
     "metadata": {},
     "output_type": "execute_result"
    }
   ],
   "source": [
    "clmned.sample(6)"
   ]
  },
  {
   "cell_type": "code",
   "execution_count": 7,
   "metadata": {},
   "outputs": [],
   "source": [
    "clmned['interventions'] = clmned['study'].str.extract('study interventions are (.+)')"
   ]
  },
  {
   "cell_type": "code",
   "execution_count": 8,
   "metadata": {},
   "outputs": [],
   "source": [
    "clmned=clmned.drop(['study'], axis=1)"
   ]
  },
  {
   "cell_type": "code",
   "execution_count": 13,
   "metadata": {},
   "outputs": [
    {
     "data": {
      "text/html": [
       "<div>\n",
       "<style scoped>\n",
       "    .dataframe tbody tr th:only-of-type {\n",
       "        vertical-align: middle;\n",
       "    }\n",
       "\n",
       "    .dataframe tbody tr th {\n",
       "        vertical-align: top;\n",
       "    }\n",
       "\n",
       "    .dataframe thead th {\n",
       "        text-align: right;\n",
       "    }\n",
       "</style>\n",
       "<table border=\"1\" class=\"dataframe\">\n",
       "  <thead>\n",
       "    <tr style=\"text-align: right;\">\n",
       "      <th></th>\n",
       "      <th>condition</th>\n",
       "      <th>qualification</th>\n",
       "      <th>interventions</th>\n",
       "    </tr>\n",
       "  </thead>\n",
       "  <tbody>\n",
       "    <tr>\n",
       "      <th>741332</th>\n",
       "      <td>stage ii childhood anaplastic large cell lymp...</td>\n",
       "      <td>1</td>\n",
       "      <td>Etoposide</td>\n",
       "    </tr>\n",
       "    <tr>\n",
       "      <th>158174</th>\n",
       "      <td>non hodgkins lymphoma diagnosis and known pri...</td>\n",
       "      <td>0</td>\n",
       "      <td>Mycophenolic Acid</td>\n",
       "    </tr>\n",
       "    <tr>\n",
       "      <th>907900</th>\n",
       "      <td>recurrent marginal zone lymphoma diagnosis an...</td>\n",
       "      <td>1</td>\n",
       "      <td>Alemtuzumab</td>\n",
       "    </tr>\n",
       "    <tr>\n",
       "      <th>908801</th>\n",
       "      <td>nodal marginal zone cell lymphoma diagnosis a...</td>\n",
       "      <td>1</td>\n",
       "      <td>Cyclosporins</td>\n",
       "    </tr>\n",
       "    <tr>\n",
       "      <th>515360</th>\n",
       "      <td>stage iv adult hodgkin lymphoma diagnosis and...</td>\n",
       "      <td>1</td>\n",
       "      <td>Doxorubicin</td>\n",
       "    </tr>\n",
       "    <tr>\n",
       "      <th>37715</th>\n",
       "      <td>unspecified adult solid tumor protocol specif...</td>\n",
       "      <td>0</td>\n",
       "      <td>questionnaire administration</td>\n",
       "    </tr>\n",
       "  </tbody>\n",
       "</table>\n",
       "</div>"
      ],
      "text/plain": [
       "                                                condition  qualification  \\\n",
       "741332   stage ii childhood anaplastic large cell lymp...              1   \n",
       "158174   non hodgkins lymphoma diagnosis and known pri...              0   \n",
       "907900   recurrent marginal zone lymphoma diagnosis an...              1   \n",
       "908801   nodal marginal zone cell lymphoma diagnosis a...              1   \n",
       "515360   stage iv adult hodgkin lymphoma diagnosis and...              1   \n",
       "37715    unspecified adult solid tumor protocol specif...              0   \n",
       "\n",
       "                        interventions  \n",
       "741332                     Etoposide   \n",
       "158174             Mycophenolic Acid   \n",
       "907900                   Alemtuzumab   \n",
       "908801                  Cyclosporins   \n",
       "515360                   Doxorubicin   \n",
       "37715   questionnaire administration   "
      ]
     },
     "execution_count": 13,
     "metadata": {},
     "output_type": "execute_result"
    }
   ],
   "source": [
    "clmned.sample(6)"
   ]
  },
  {
   "cell_type": "markdown",
   "metadata": {},
   "source": [
    "Теперь хорошо бы еще подробить колонку 'condition'."
   ]
  },
  {
   "cell_type": "code",
   "execution_count": 9,
   "metadata": {},
   "outputs": [],
   "source": [
    "clmned['diagnosis'] = clmned['condition'].str.extract('(.+) diagnosis.+')"
   ]
  },
  {
   "cell_type": "code",
   "execution_count": 10,
   "metadata": {},
   "outputs": [],
   "source": [
    "clmned['recurrent'] = pd.np.where(clmned.condition.str.contains(\"recurrent\"), \"1\", \"0\").astype(int)"
   ]
  },
  {
   "cell_type": "code",
   "execution_count": 11,
   "metadata": {},
   "outputs": [],
   "source": [
    "clmned['conditions'] = clmned['condition'].str.extract('.+ and (.+)')"
   ]
  },
  {
   "cell_type": "code",
   "execution_count": 12,
   "metadata": {},
   "outputs": [],
   "source": [
    "clmned = clmned.drop(['condition'], axis=1)"
   ]
  },
  {
   "cell_type": "code",
   "execution_count": 18,
   "metadata": {},
   "outputs": [
    {
     "data": {
      "text/html": [
       "<div>\n",
       "<style scoped>\n",
       "    .dataframe tbody tr th:only-of-type {\n",
       "        vertical-align: middle;\n",
       "    }\n",
       "\n",
       "    .dataframe tbody tr th {\n",
       "        vertical-align: top;\n",
       "    }\n",
       "\n",
       "    .dataframe thead th {\n",
       "        text-align: right;\n",
       "    }\n",
       "</style>\n",
       "<table border=\"1\" class=\"dataframe\">\n",
       "  <thead>\n",
       "    <tr style=\"text-align: right;\">\n",
       "      <th></th>\n",
       "      <th>qualification</th>\n",
       "      <th>interventions</th>\n",
       "      <th>diagnosis</th>\n",
       "      <th>recurrent</th>\n",
       "      <th>conditions</th>\n",
       "    </tr>\n",
       "  </thead>\n",
       "  <tbody>\n",
       "    <tr>\n",
       "      <th>0</th>\n",
       "      <td>0</td>\n",
       "      <td>recombinant CD40-ligand</td>\n",
       "      <td>melanoma skin</td>\n",
       "      <td>0</td>\n",
       "      <td>no active cns metastases by ct scan or mri</td>\n",
       "    </tr>\n",
       "    <tr>\n",
       "      <th>1</th>\n",
       "      <td>0</td>\n",
       "      <td>Liposomal doxorubicin</td>\n",
       "      <td>colorectal cancer</td>\n",
       "      <td>0</td>\n",
       "      <td>cardiovascular</td>\n",
       "    </tr>\n",
       "    <tr>\n",
       "      <th>2</th>\n",
       "      <td>0</td>\n",
       "      <td>BI 836909</td>\n",
       "      <td>multiple myeloma</td>\n",
       "      <td>0</td>\n",
       "      <td>indwelling central venous cateder or willingne...</td>\n",
       "    </tr>\n",
       "    <tr>\n",
       "      <th>3</th>\n",
       "      <td>0</td>\n",
       "      <td>Immunoglobulins</td>\n",
       "      <td>recurrent fallopian tube carcinoma</td>\n",
       "      <td>1</td>\n",
       "      <td>patients are allowed to receive but are not re...</td>\n",
       "    </tr>\n",
       "    <tr>\n",
       "      <th>4</th>\n",
       "      <td>0</td>\n",
       "      <td>Paclitaxel</td>\n",
       "      <td>stage ovarian cancer</td>\n",
       "      <td>0</td>\n",
       "      <td>patients must have recovered from the effects ...</td>\n",
       "    </tr>\n",
       "    <tr>\n",
       "      <th>5</th>\n",
       "      <td>0</td>\n",
       "      <td>Antibodies, Monoclonal</td>\n",
       "      <td>recurrent verrucous carcinoma of the oral cavity</td>\n",
       "      <td>1</td>\n",
       "      <td>must have undergone radiotherapy as component ...</td>\n",
       "    </tr>\n",
       "  </tbody>\n",
       "</table>\n",
       "</div>"
      ],
      "text/plain": [
       "   qualification             interventions  \\\n",
       "0              0  recombinant CD40-ligand    \n",
       "1              0    Liposomal doxorubicin    \n",
       "2              0                BI 836909    \n",
       "3              0          Immunoglobulins    \n",
       "4              0               Paclitaxel    \n",
       "5              0   Antibodies, Monoclonal    \n",
       "\n",
       "                                           diagnosis  recurrent  \\\n",
       "0                                      melanoma skin          0   \n",
       "1                                  colorectal cancer          0   \n",
       "2                                   multiple myeloma          0   \n",
       "3                 recurrent fallopian tube carcinoma          1   \n",
       "4                               stage ovarian cancer          0   \n",
       "5   recurrent verrucous carcinoma of the oral cavity          1   \n",
       "\n",
       "                                          conditions  \n",
       "0         no active cns metastases by ct scan or mri  \n",
       "1                                     cardiovascular  \n",
       "2  indwelling central venous cateder or willingne...  \n",
       "3  patients are allowed to receive but are not re...  \n",
       "4  patients must have recovered from the effects ...  \n",
       "5  must have undergone radiotherapy as component ...  "
      ]
     },
     "execution_count": 18,
     "metadata": {},
     "output_type": "execute_result"
    }
   ],
   "source": [
    "clmned.head(6)"
   ]
  },
  {
   "cell_type": "markdown",
   "metadata": {},
   "source": [
    "## Случайный бейзлайн"
   ]
  },
  {
   "cell_type": "code",
   "execution_count": 13,
   "metadata": {},
   "outputs": [],
   "source": [
    "import random"
   ]
  },
  {
   "cell_type": "code",
   "execution_count": 14,
   "metadata": {},
   "outputs": [],
   "source": [
    "from sklearn.metrics import roc_auc_score"
   ]
  },
  {
   "cell_type": "code",
   "execution_count": 22,
   "metadata": {},
   "outputs": [],
   "source": [
    "clmned['random'] = [random.randint(0, 1) for i in range(len(clmned))]"
   ]
  },
  {
   "cell_type": "code",
   "execution_count": 23,
   "metadata": {},
   "outputs": [
    {
     "data": {
      "text/plain": [
       "0.5010670013146523"
      ]
     },
     "execution_count": 23,
     "metadata": {},
     "output_type": "execute_result"
    }
   ],
   "source": [
    "roc_auc_score(clmned['random'], clmned['qualification'])"
   ]
  },
  {
   "cell_type": "markdown",
   "metadata": {},
   "source": [
    "## Неслучайный бейзлайн"
   ]
  },
  {
   "cell_type": "code",
   "execution_count": 15,
   "metadata": {},
   "outputs": [],
   "source": [
    "from sklearn.preprocessing import LabelEncoder"
   ]
  },
  {
   "cell_type": "code",
   "execution_count": 16,
   "metadata": {},
   "outputs": [],
   "source": [
    "laben = LabelEncoder()\n",
    "clmned['interventions'] = laben.fit_transform(clmned['interventions'])"
   ]
  },
  {
   "cell_type": "code",
   "execution_count": 18,
   "metadata": {},
   "outputs": [],
   "source": [
    "clmned['diagnosis'] = laben.fit_transform(clmned['diagnosis'].astype(str))"
   ]
  },
  {
   "cell_type": "code",
   "execution_count": 45,
   "metadata": {},
   "outputs": [
    {
     "data": {
      "text/html": [
       "<div>\n",
       "<style scoped>\n",
       "    .dataframe tbody tr th:only-of-type {\n",
       "        vertical-align: middle;\n",
       "    }\n",
       "\n",
       "    .dataframe tbody tr th {\n",
       "        vertical-align: top;\n",
       "    }\n",
       "\n",
       "    .dataframe thead th {\n",
       "        text-align: right;\n",
       "    }\n",
       "</style>\n",
       "<table border=\"1\" class=\"dataframe\">\n",
       "  <thead>\n",
       "    <tr style=\"text-align: right;\">\n",
       "      <th></th>\n",
       "      <th>qualification</th>\n",
       "      <th>interventions</th>\n",
       "      <th>diagnosis</th>\n",
       "      <th>recurrent</th>\n",
       "      <th>conditions</th>\n",
       "      <th>random</th>\n",
       "    </tr>\n",
       "  </thead>\n",
       "  <tbody>\n",
       "    <tr>\n",
       "      <th>0</th>\n",
       "      <td>0</td>\n",
       "      <td>14623</td>\n",
       "      <td>5504</td>\n",
       "      <td>0</td>\n",
       "      <td>no active cns metastases by ct scan or mri</td>\n",
       "      <td>1</td>\n",
       "    </tr>\n",
       "    <tr>\n",
       "      <th>1</th>\n",
       "      <td>0</td>\n",
       "      <td>6722</td>\n",
       "      <td>2432</td>\n",
       "      <td>0</td>\n",
       "      <td>cardiovascular</td>\n",
       "      <td>0</td>\n",
       "    </tr>\n",
       "    <tr>\n",
       "      <th>2</th>\n",
       "      <td>0</td>\n",
       "      <td>1416</td>\n",
       "      <td>5966</td>\n",
       "      <td>0</td>\n",
       "      <td>indwelling central venous cateder or willingne...</td>\n",
       "      <td>1</td>\n",
       "    </tr>\n",
       "    <tr>\n",
       "      <th>3</th>\n",
       "      <td>0</td>\n",
       "      <td>5891</td>\n",
       "      <td>8595</td>\n",
       "      <td>1</td>\n",
       "      <td>patients are allowed to receive but are not re...</td>\n",
       "      <td>0</td>\n",
       "    </tr>\n",
       "    <tr>\n",
       "      <th>4</th>\n",
       "      <td>0</td>\n",
       "      <td>8671</td>\n",
       "      <td>11274</td>\n",
       "      <td>0</td>\n",
       "      <td>patients must have recovered from the effects ...</td>\n",
       "      <td>0</td>\n",
       "    </tr>\n",
       "  </tbody>\n",
       "</table>\n",
       "</div>"
      ],
      "text/plain": [
       "   qualification  interventions  diagnosis  recurrent  \\\n",
       "0              0          14623       5504          0   \n",
       "1              0           6722       2432          0   \n",
       "2              0           1416       5966          0   \n",
       "3              0           5891       8595          1   \n",
       "4              0           8671      11274          0   \n",
       "\n",
       "                                          conditions  random  \n",
       "0         no active cns metastases by ct scan or mri       1  \n",
       "1                                     cardiovascular       0  \n",
       "2  indwelling central venous cateder or willingne...       1  \n",
       "3  patients are allowed to receive but are not re...       0  \n",
       "4  patients must have recovered from the effects ...       0  "
      ]
     },
     "execution_count": 45,
     "metadata": {},
     "output_type": "execute_result"
    }
   ],
   "source": [
    "clmned.head()"
   ]
  },
  {
   "cell_type": "code",
   "execution_count": 19,
   "metadata": {},
   "outputs": [],
   "source": [
    "from sklearn.feature_extraction.text import TfidfVectorizer\n",
    "from sklearn.model_selection import train_test_split"
   ]
  },
  {
   "cell_type": "code",
   "execution_count": 20,
   "metadata": {},
   "outputs": [],
   "source": [
    "X = clmned.iloc[:,4]\n",
    "y = clmned.iloc[:,0]"
   ]
  },
  {
   "cell_type": "code",
   "execution_count": 21,
   "metadata": {},
   "outputs": [],
   "source": [
    "vectorizer = TfidfVectorizer()"
   ]
  },
  {
   "cell_type": "code",
   "execution_count": 22,
   "metadata": {},
   "outputs": [],
   "source": [
    "X = vectorizer.fit_transform(X.astype('U'))"
   ]
  },
  {
   "cell_type": "code",
   "execution_count": 23,
   "metadata": {},
   "outputs": [],
   "source": [
    "X_train, X_test, y_train, y_test = train_test_split(X, y, test_size=0.2, random_state=0)\n",
    "X_rain, X_valid, y_rain, y_valid = train_test_split(X_train, y_train, test_size=0.2, random_state=0)"
   ]
  },
  {
   "cell_type": "code",
   "execution_count": 24,
   "metadata": {},
   "outputs": [],
   "source": [
    "from sklearn.linear_model import LogisticRegression"
   ]
  },
  {
   "cell_type": "code",
   "execution_count": 25,
   "metadata": {},
   "outputs": [],
   "source": [
    "c_es = [0.1, 1, 10, 20]"
   ]
  },
  {
   "cell_type": "code",
   "execution_count": 26,
   "metadata": {},
   "outputs": [
    {
     "name": "stdout",
     "output_type": "stream",
     "text": [
      "0.1 0.8387039290237873\n",
      "1 0.8499545748284155\n",
      "10 0.8538405274582047\n",
      "20 0.8542382210334152\n"
     ]
    }
   ],
   "source": [
    "for c in c_es:\n",
    "    logreg = LogisticRegression(C=c)\n",
    "    logreg.fit(X_train, y_train)\n",
    "    score = roc_auc_score(logreg.predict(X_valid), y_valid)\n",
    "    print(c, score)"
   ]
  },
  {
   "cell_type": "code",
   "execution_count": 28,
   "metadata": {},
   "outputs": [],
   "source": [
    "logred10 = LogisticRegression(C=10)\n",
    "logred10.fit(X_train, y_train)\n",
    "y_predicted = logred10.predict(X_test)"
   ]
  },
  {
   "cell_type": "code",
   "execution_count": 29,
   "metadata": {},
   "outputs": [
    {
     "data": {
      "text/plain": [
       "0.8528342790948445"
      ]
     },
     "execution_count": 29,
     "metadata": {},
     "output_type": "execute_result"
    }
   ],
   "source": [
    "roc_auc_score(y_test, y_predicted)"
   ]
  }
 ],
 "metadata": {
  "kernelspec": {
   "display_name": "Python 3",
   "language": "python",
   "name": "python3"
  },
  "language_info": {
   "codemirror_mode": {
    "name": "ipython",
    "version": 3
   },
   "file_extension": ".py",
   "mimetype": "text/x-python",
   "name": "python",
   "nbconvert_exporter": "python",
   "pygments_lexer": "ipython3",
   "version": "3.6.5"
  }
 },
 "nbformat": 4,
 "nbformat_minor": 2
}
